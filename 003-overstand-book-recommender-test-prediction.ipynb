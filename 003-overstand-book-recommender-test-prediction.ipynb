{
 "cells": [
  {
   "cell_type": "markdown",
   "id": "cd569e07",
   "metadata": {},
   "source": [
    "## Librerías Adicionales\n",
    "\n",
    "- `numpy`: Usada para operaciones matemáticas y manejo de arreglos en Python.\n",
    "- `tensorflow.keras.models`: Facilita la carga de modelos previamente entrenados de Keras.\n",
    "- `sklearn.preprocessing`: Proporciona herramientas adicionales para la codificación y el preprocesamiento de datos."
   ]
  },
  {
   "cell_type": "code",
   "execution_count": null,
   "id": "f34a0eb1",
   "metadata": {
    "scrolled": false
   },
   "outputs": [],
   "source": [
    "pip install tensorflow"
   ]
  },
  {
   "cell_type": "code",
   "execution_count": 4,
   "id": "c4e710f7",
   "metadata": {},
   "outputs": [],
   "source": [
    "import pandas as pd\n",
    "import numpy as np\n",
    "from tensorflow.keras.models import load_model\n",
    "from sklearn.preprocessing import LabelEncoder\n",
    "import os\n",
    "os.environ['CUDA_VISIBLE_DEVICES'] = '-1'"
   ]
  },
  {
   "cell_type": "markdown",
   "id": "ddb10fbc",
   "metadata": {},
   "source": [
    "## Cargar el Modelo en el Notebook de Producción:"
   ]
  },
  {
   "cell_type": "code",
   "execution_count": 5,
   "id": "1b5968ee",
   "metadata": {},
   "outputs": [],
   "source": [
    "model = load_model('training_model_try_recommender.h5')"
   ]
  },
  {
   "cell_type": "markdown",
   "id": "1b5fe862",
   "metadata": {},
   "source": [
    "## Función de Recomendación: \n",
    "Esta función tomará la información del usuario como entrada y utilizará el modelo para predecir las calificaciones de los libros que el usuario aún no ha calificado. Luego, seleccionará los libros con las calificaciones más altas pronosticadas.\n",
    "\n",
    "Aquí hay un ejemplo de cómo podría ser esta función para un usuario dandole 5 libros a recomendar:"
   ]
  },
  {
   "cell_type": "code",
   "execution_count": 8,
   "id": "3590146b",
   "metadata": {},
   "outputs": [
    {
     "name": "stdout",
     "output_type": "stream",
     "text": [
      "8443/8443 [==============================] - 10s 1ms/step\n",
      "Top 5 libros recomendados para el usuario 12345:\n",
      "              ISBN                                         Book-Title\n",
      "16184   0316779059  The Baby Book: Everything You Need to Know Abo...\n",
      "24409   1556611536  Julia's Last Hope (Oke, Janette, Women of the ...\n",
      "28540   0201354934  HTML 4 for the World Wide Web, Fourth Edition:...\n",
      "65320   0141001615  The Read-Aloud Handbook (Read-Aloud Handbook, ...\n",
      "203227  0805420401  The Screwtape Letters: Also Includes \\Screwtap...\n"
     ]
    }
   ],
   "source": [
    "# Cargar los datos\n",
    "train_usuarios_calificaciones = pd.read_csv('train_usuarios_calificaciones.csv', low_memory=False)\n",
    "test_usuarios_calificaciones = pd.read_csv('test_usuarios_calificaciones.csv', low_memory=False)\n",
    "libros_df = pd.read_csv('Books.csv', low_memory=False)\n",
    "\n",
    "# Preparar el LabelEncoder para 'ISBN'\n",
    "label_encoder_book = LabelEncoder()\n",
    "label_encoder_book.fit(pd.concat([train_usuarios_calificaciones['ISBN'], test_usuarios_calificaciones['ISBN']]))\n",
    "\n",
    "# ID del usuario para la recomendación\n",
    "user_id = 10\n",
    "\n",
    "# Obtener todos los libros y filtrar los no calificados por el usuario\n",
    "todos_libros = pd.concat([train_usuarios_calificaciones, test_usuarios_calificaciones])\n",
    "libros_calificados = todos_libros[todos_libros['User-ID'] == user_id]['ISBN']\n",
    "\n",
    "# Filtrar libros no calificados y presentes en el conjunto de datos de entrenamiento/prueba\n",
    "libros_no_calificados = libros_df[libros_df['ISBN'].isin(label_encoder_book.classes_)]\n",
    "libros_no_calificados = libros_no_calificados[~libros_no_calificados['ISBN'].isin(libros_calificados)]\n",
    "\n",
    "# Preparar los datos para la predicción\n",
    "user_input = np.array([user_id] * len(libros_no_calificados)).astype(int)\n",
    "book_input = label_encoder_book.transform(libros_no_calificados['ISBN'].values)\n",
    "\n",
    "# Realizar la predicción\n",
    "predicciones = model.predict([user_input, book_input]).flatten()\n",
    "\n",
    "# Obtener los índices de los 5 libros con mayores predicciones\n",
    "indices_top5 = np.argsort(predicciones)[-5:]\n",
    "\n",
    "# Recuperar los ISBNs de los top 5 libros\n",
    "top5_libros_isbn = libros_no_calificados.iloc[indices_top5]['ISBN']\n",
    "\n",
    "# Mapear los ISBNs a los títulos de los libros\n",
    "top5_libros = libros_df[libros_df['ISBN'].isin(top5_libros_isbn)][['ISBN', 'Book-Title']]\n",
    "\n",
    "print(\"Top 5 libros recomendados para el usuario 12345:\")\n",
    "print(top5_libros)"
   ]
  },
  {
   "cell_type": "code",
   "execution_count": null,
   "id": "48027483",
   "metadata": {},
   "outputs": [],
   "source": []
  }
 ],
 "metadata": {
  "kernelspec": {
   "display_name": "conda_python3",
   "language": "python",
   "name": "conda_python3"
  },
  "language_info": {
   "codemirror_mode": {
    "name": "ipython",
    "version": 3
   },
   "file_extension": ".py",
   "mimetype": "text/x-python",
   "name": "python",
   "nbconvert_exporter": "python",
   "pygments_lexer": "ipython3",
   "version": "3.10.13"
  }
 },
 "nbformat": 4,
 "nbformat_minor": 5
}
