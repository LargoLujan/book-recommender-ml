{
 "cells": [
  {
   "cell_type": "markdown",
   "id": "e2e1ebfa",
   "metadata": {},
   "source": [
    "## Librerías Utilizadas\n",
    "\n",
    "- `isbnlib`: Para validar y trabajar con números ISBN.\n",
    "- `pandas`: Utilizada para la manipulación y análisis de datos.\n",
    "- `matplotlib.pyplot`: Usada para crear visualizaciones y gráficos.\n",
    "- `sklearn.preprocessing`: Proporciona herramientas para la codificación de etiquetas y el procesamiento de datos.\n",
    "- `sklearn.model_selection`: Utilizada para dividir los datos en conjuntos de entrenamiento y prueba.\n",
    "- `tensorflow.keras.models`: Permite crear modelos de aprendizaje profundo.\n",
    "- `tensorflow.keras.layers`: Proporciona capas para construir redes neuronales, como `Input`, `Embedding`, `Flatten`, `Dense` y `Concatenate`."
   ]
  },
  {
   "cell_type": "code",
   "execution_count": null,
   "id": "93b16351",
   "metadata": {},
   "outputs": [],
   "source": [
    "import pandas as pd\n",
    "import matplotlib.pyplot as plt\n",
    "from sklearn.preprocessing import LabelEncoder\n",
    "from sklearn.model_selection import train_test_split\n",
    "from tensorflow.keras.models import Model\n",
    "from tensorflow.keras.layers import Input, Embedding, Flatten, Dense, Concatenate"
   ]
  },
  {
   "cell_type": "markdown",
   "id": "53a75f66",
   "metadata": {},
   "source": [
    "## Paso 1: Preparación de los Datos\n",
    "\n",
    "Primero, cargamos los datos preprocesados desde archivos CSV. Usamos `LabelEncoder` para convertir identificadores únicos de usuarios y libros en valores numéricos que el modelo de redes neuronales puede procesar.\n"
   ]
  },
  {
   "cell_type": "code",
   "execution_count": 4,
   "id": "8f889f06",
   "metadata": {},
   "outputs": [],
   "source": [
    "# Cargar los datos\n",
    "train_usuarios_calificaciones = pd.read_csv('train_usuarios_calificaciones.csv',low_memory=False)\n",
    "test_usuarios_calificaciones = pd.read_csv('test_usuarios_calificaciones.csv',low_memory=False)\n",
    "\n",
    "# Codificar categóricamente las variables necesarias\n",
    "label_encoder_user = LabelEncoder()\n",
    "label_encoder_book = LabelEncoder()\n",
    "\n",
    "# Ajustar LabelEncoder a todos los datos (entrenamiento y prueba) para 'User-ID' y 'ISBN'\n",
    "label_encoder_user.fit(pd.concat([train_usuarios_calificaciones['User-ID'], test_usuarios_calificaciones['User-ID']]).unique())\n",
    "label_encoder_book.fit(pd.concat([train_usuarios_calificaciones['ISBN'], test_usuarios_calificaciones['ISBN']]).unique())\n",
    "\n",
    "# Transformar los datos de entrenamiento y prueba\n",
    "train_usuarios_calificaciones['User-ID'] = label_encoder_user.transform(train_usuarios_calificaciones['User-ID'])\n",
    "test_usuarios_calificaciones['User-ID'] = label_encoder_user.transform(test_usuarios_calificaciones['User-ID'])\n",
    "\n",
    "train_usuarios_calificaciones['ISBN'] = label_encoder_book.transform(train_usuarios_calificaciones['ISBN'])\n",
    "test_usuarios_calificaciones['ISBN'] = label_encoder_book.transform(test_usuarios_calificaciones['ISBN'])\n",
    "\n",
    "# Asegurarse de que no haya valores NaN en las columnas de calificaciones\n",
    "train_usuarios_calificaciones.dropna(subset=['Book-Rating'], inplace=True)\n",
    "test_usuarios_calificaciones.dropna(subset=['Book-Rating'], inplace=True)"
   ]
  },
  {
   "cell_type": "markdown",
   "id": "bb17e3a8",
   "metadata": {},
   "source": [
    "## Paso 2: Construcción del Modelo\n",
    "\n",
    "Construimos un modelo de aprendizaje profundo utilizando Keras. El modelo implementa embeddings para usuarios y libros, y utiliza una red neuronal densa para predecir las calificaciones de los libros.\n"
   ]
  },
  {
   "cell_type": "code",
   "execution_count": 8,
   "id": "a51b1126",
   "metadata": {},
   "outputs": [],
   "source": [
    "# Número de factores de embeddings\n",
    "embedding_size = 15\n",
    "\n",
    "# Inputs\n",
    "user_input = Input(shape=(1,), name='user_input')\n",
    "book_input = Input(shape=(1,), name='book_input')\n",
    "\n",
    "# Embeddings\n",
    "max_user_id = train_usuarios_calificaciones['User-ID'].max() + 1\n",
    "max_book_id = train_usuarios_calificaciones['ISBN'].max() + 1\n",
    "\n",
    "user_embedding = Embedding(input_dim=max_user_id, \n",
    "                           output_dim=embedding_size, \n",
    "                           name='user_embedding')(user_input)\n",
    "book_embedding = Embedding(input_dim=max_book_id, \n",
    "                           output_dim=embedding_size, \n",
    "                           name='book_embedding')(book_input)\n",
    "\n",
    "\n",
    "# Aplanamiento\n",
    "user_vec = Flatten(name='flatten_user')(user_embedding)\n",
    "book_vec = Flatten(name='flatten_book')(book_embedding)\n",
    "\n",
    "# Concatenación\n",
    "concat = Concatenate()([user_vec, book_vec])\n",
    "\n",
    "# Red neuronal\n",
    "dense_1 = Dense(128, activation='relu')(concat)\n",
    "output = Dense(1, activation='linear')(dense_1)\n",
    "\n",
    "# Modelo\n",
    "model = Model(inputs=[user_input, book_input], outputs=output)\n",
    "model.compile(optimizer='adam', loss='mean_squared_error')"
   ]
  },
  {
   "cell_type": "markdown",
   "id": "cbc38d58",
   "metadata": {},
   "source": [
    "## Paso 3: Entrenamiento y Evaluación del Modelo\n",
    "\n",
    "Entrenamos el modelo con los datos de entrenamiento y lo evaluamos con los datos de prueba para medir su rendimiento.\n"
   ]
  },
  {
   "cell_type": "code",
   "execution_count": 9,
   "id": "2d99fc0e",
   "metadata": {},
   "outputs": [
    {
     "name": "stdout",
     "output_type": "stream",
     "text": [
      "Epoch 1/5\n",
      "26948/26948 [==============================] - 1888s 70ms/step - loss: 11.7187\n",
      "Epoch 2/5\n",
      "26948/26948 [==============================] - 1780s 66ms/step - loss: 9.3842\n",
      "Epoch 3/5\n",
      "26948/26948 [==============================] - 1775s 66ms/step - loss: 7.9036\n",
      "Epoch 4/5\n",
      "26948/26948 [==============================] - 1775s 66ms/step - loss: 6.9673\n",
      "Epoch 5/5\n",
      "26948/26948 [==============================] - 1775s 66ms/step - loss: 6.1947\n",
      "8983/8983 [==============================] - 11s 1ms/step - loss: 12.9595\n"
     ]
    },
    {
     "data": {
      "text/plain": [
       "12.959489822387695"
      ]
     },
     "execution_count": 9,
     "metadata": {},
     "output_type": "execute_result"
    }
   ],
   "source": [
    "# Datos de entrenamiento\n",
    "X_train = [train_usuarios_calificaciones['User-ID'].values, train_usuarios_calificaciones['ISBN'].values]\n",
    "y_train = train_usuarios_calificaciones['Book-Rating'].values\n",
    "\n",
    "# Entrenamiento del modelo\n",
    "model.fit(X_train, y_train, epochs=5, batch_size=32)\n",
    "\n",
    "# Datos de prueba\n",
    "X_test = [test_usuarios_calificaciones['User-ID'].values, test_usuarios_calificaciones['ISBN'].values]\n",
    "y_test = test_usuarios_calificaciones['Book-Rating'].values\n",
    "\n",
    "# Evaluación del modelo\n",
    "model.evaluate(X_test, y_test)"
   ]
  },
  {
   "cell_type": "markdown",
   "id": "e1fa2f6a",
   "metadata": {},
   "source": [
    "## Paso 4: Visualización de Resultados\n",
    "\n",
    "Visualizamos los resultados del modelo para comprender mejor su rendimiento. Generamos un histograma de los errores de predicción para analizar la distribución de estos errores."
   ]
  },
  {
   "cell_type": "code",
   "execution_count": 13,
   "id": "7adf1fa9",
   "metadata": {},
   "outputs": [
    {
     "name": "stdout",
     "output_type": "stream",
     "text": [
      "8983/8983 [==============================] - 11s 1ms/step\n"
     ]
    },
    {
     "data": {
      "image/png": "[encoded data removed]",
      "text/plain": [
       "<Figure size 432x288 with 1 Axes>"
      ]
     },
     "metadata": {
      "needs_background": "light"
     },
     "output_type": "display_data"
    }
   ],
   "source": [
    "# Genera predicciones del modelo\n",
    "predictions = model.predict(X_test).flatten()  # Asegúrate de que sea un vector unidimensional\n",
    "\n",
    "# Extrae los valores verdaderos y asegúrarse de que sean unidimensionales\n",
    "true_values = y_test.flatten()\n",
    "\n",
    "# Verificar que ambos vectores tengan la misma longitud\n",
    "if len(predictions) != len(true_values):\n",
    "    raise ValueError(f\"Las longitudes no coinciden: {len(predictions)} vs {len(true_values)}\")\n",
    "\n",
    "# Calcula los errores\n",
    "errors = predictions - true_values\n",
    "\n",
    "# Grafica un histograma de los errores\n",
    "plt.hist(errors, bins=30, edgecolor='black')\n",
    "plt.xlabel('Error de Predicción')\n",
    "plt.ylabel('Frecuencia')\n",
    "plt.title('Histograma de Errores de Predicción')\n",
    "plt.show()"
   ]
  },
  {
   "cell_type": "markdown",
   "id": "adff0b12",
   "metadata": {},
   "source": [
    "## Paso 5: Conclusiones \n",
    "\n",
    "La forma del histograma indica lo siguiente:\n",
    "\n",
    "La mayoría de los errores se concentran alrededor de cero, lo que implica que para muchos casos, las predicciones del modelo estuvieron muy cerca del valor real.\n",
    "La distribución de los errores parece ser aproximadamente normal (con forma de campana), lo que es un buen signo en cuanto a la precisión del modelo. En la práctica, un modelo de predicción raramente es perfecto, pero un error centrado alrededor de cero con una distribución simétrica es a menudo deseable.\n",
    "No hay una gran cantidad de errores extremadamente grandes en ninguna de las dos direcciones (positiva o negativa), lo que indicaría que el modelo no tiene tendencia sistemática a sobrestimar o subestimar significativamente las calificaciones."
   ]
  },
  {
   "cell_type": "markdown",
   "id": "470722bf",
   "metadata": {},
   "source": [
    "## Guardamos modelo para trabajar en producción"
   ]
  },
  {
   "cell_type": "code",
   "execution_count": 18,
   "id": "87f30b6e",
   "metadata": {},
   "outputs": [],
   "source": [
    "# Para un modelo de Keras/TensorFlow\n",
    "model.save('training_model_try_recommender.h5')"
   ]
  }
 ],
 "metadata": {
  "kernelspec": {
   "display_name": "Python 3 (ipykernel)",
   "language": "python",
   "name": "python3"
  },
  "language_info": {
   "codemirror_mode": {
    "name": "ipython",
    "version": 3
   },
   "file_extension": ".py",
   "mimetype": "text/x-python",
   "name": "python",
   "nbconvert_exporter": "python",
   "pygments_lexer": "ipython3",
   "version": "3.9.12"
  }
 },
 "nbformat": 4,
 "nbformat_minor": 5
}
