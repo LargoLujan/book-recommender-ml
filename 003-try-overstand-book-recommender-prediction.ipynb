{
 "cells": [
  {
   "cell_type": "markdown",
   "id": "b2aad0c0",
   "metadata": {},
   "source": [
    "## Librerías Adicionales\n",
    "\n",
    "- `numpy`: Usada para operaciones matemáticas y manejo de arreglos en Python.\n",
    "- `tensorflow.keras.models`: Facilita la carga de modelos previamente entrenados de Keras.\n",
    "- `sklearn.preprocessing`: Proporciona herramientas adicionales para la codificación y el preprocesamiento de datos."
   ]
  },
  {
   "cell_type": "code",
   "execution_count": 17,
   "id": "4824ef5e",
   "metadata": {},
   "outputs": [],
   "source": [
    "import pandas as pd\n",
    "import numpy as np\n",
    "from tensorflow.keras.models import load_model\n",
    "from sklearn.preprocessing import LabelEncoder"
   ]
  },
  {
   "cell_type": "markdown",
   "id": "dfeb843c",
   "metadata": {},
   "source": [
    "## Cargar el Modelo en el Notebook de Producción:"
   ]
  },
  {
   "cell_type": "code",
   "execution_count": 18,
   "id": "e800f2a5",
   "metadata": {},
   "outputs": [],
   "source": [
    "model = load_model('training_model_try_recommender.h5')"
   ]
  },
  {
   "cell_type": "markdown",
   "id": "fa678e37",
   "metadata": {},
   "source": [
    "## Función de Recomendación: \n",
    "Esta función tomará la información del usuario como entrada y utilizará el modelo para predecir las calificaciones de los libros que el usuario aún no ha calificado. Luego, seleccionará los libros con las calificaciones más altas pronosticadas.\n",
    "\n",
    "Aquí hay un ejemplo de cómo podría ser esta función para un usuario dandole 5 libros a recomendar:"
   ]
  },
  {
   "cell_type": "code",
   "execution_count": 1,
   "id": "e5317151",
   "metadata": {},
   "outputs": [
    {
     "ename": "NameError",
     "evalue": "name 'pd' is not defined",
     "output_type": "error",
     "traceback": [
      "\u001b[1;31m---------------------------------------------------------------------------\u001b[0m",
      "\u001b[1;31mNameError\u001b[0m                                 Traceback (most recent call last)",
      "Input \u001b[1;32mIn [1]\u001b[0m, in \u001b[0;36m<cell line: 2>\u001b[1;34m()\u001b[0m\n\u001b[0;32m      1\u001b[0m \u001b[38;5;66;03m# Cargar los datos\u001b[39;00m\n\u001b[1;32m----> 2\u001b[0m train_usuarios_calificaciones \u001b[38;5;241m=\u001b[39m \u001b[43mpd\u001b[49m\u001b[38;5;241m.\u001b[39mread_csv(\u001b[38;5;124m'\u001b[39m\u001b[38;5;124mtrain_usuarios_calificaciones.csv\u001b[39m\u001b[38;5;124m'\u001b[39m, low_memory\u001b[38;5;241m=\u001b[39m\u001b[38;5;28;01mFalse\u001b[39;00m)\n\u001b[0;32m      3\u001b[0m test_usuarios_calificaciones \u001b[38;5;241m=\u001b[39m pd\u001b[38;5;241m.\u001b[39mread_csv(\u001b[38;5;124m'\u001b[39m\u001b[38;5;124mtest_usuarios_calificaciones.csv\u001b[39m\u001b[38;5;124m'\u001b[39m, low_memory\u001b[38;5;241m=\u001b[39m\u001b[38;5;28;01mFalse\u001b[39;00m)\n\u001b[0;32m      4\u001b[0m libros_df \u001b[38;5;241m=\u001b[39m pd\u001b[38;5;241m.\u001b[39mread_csv(\u001b[38;5;124m'\u001b[39m\u001b[38;5;124mBooks.csv\u001b[39m\u001b[38;5;124m'\u001b[39m, low_memory\u001b[38;5;241m=\u001b[39m\u001b[38;5;28;01mFalse\u001b[39;00m)\n",
      "\u001b[1;31mNameError\u001b[0m: name 'pd' is not defined"
     ]
    }
   ],
   "source": [
    "# Cargar los datos\n",
    "train_usuarios_calificaciones = pd.read_csv('train_usuarios_calificaciones.csv', low_memory=False)\n",
    "test_usuarios_calificaciones = pd.read_csv('test_usuarios_calificaciones.csv', low_memory=False)\n",
    "libros_df = pd.read_csv('Books.csv', low_memory=False)\n",
    "\n",
    "# Preparar el LabelEncoder para 'ISBN'\n",
    "label_encoder_book = LabelEncoder()\n",
    "label_encoder_book.fit(pd.concat([train_usuarios_calificaciones['ISBN'], test_usuarios_calificaciones['ISBN']]))\n",
    "\n",
    "# ID del usuario para la recomendación\n",
    "user_id = 12345\n",
    "\n",
    "# Obtener todos los libros y filtrar los no calificados por el usuario\n",
    "todos_libros = pd.concat([train_usuarios_calificaciones, test_usuarios_calificaciones])\n",
    "libros_calificados = todos_libros[todos_libros['User-ID'] == user_id]['ISBN']\n",
    "\n",
    "# Filtrar libros no calificados y presentes en el conjunto de datos de entrenamiento/prueba\n",
    "libros_no_calificados = libros_df[libros_df['ISBN'].isin(label_encoder_book.classes_)]\n",
    "libros_no_calificados = libros_no_calificados[~libros_no_calificados['ISBN'].isin(libros_calificados)]\n",
    "\n",
    "# Preparar los datos para la predicción\n",
    "user_input = np.array([user_id] * len(libros_no_calificados)).astype(int)\n",
    "book_input = label_encoder_book.transform(libros_no_calificados['ISBN'].values)\n",
    "\n",
    "# Realizar la predicción\n",
    "predicciones = model.predict([user_input, book_input]).flatten()\n",
    "\n",
    "# Obtener los índices de los 5 libros con mayores predicciones\n",
    "indices_top5 = np.argsort(predicciones)[-5:]\n",
    "\n",
    "# Recuperar los ISBNs de los top 5 libros\n",
    "top5_libros_isbn = libros_no_calificados.iloc[indices_top5]['ISBN']\n",
    "\n",
    "# Mapear los ISBNs a los títulos de los libros\n",
    "top5_libros = libros_df[libros_df['ISBN'].isin(top5_libros_isbn)][['ISBN', 'Book-Title']]\n",
    "\n",
    "print(\"Top 5 libros recomendados para el usuario 12345:\")\n",
    "print(top5_libros)"
   ]
  },
  {
   "cell_type": "code",
   "execution_count": null,
   "id": "3fb08700",
   "metadata": {},
   "outputs": [],
   "source": []
  }
 ],
 "metadata": {
  "kernelspec": {
   "display_name": "Python 3 (ipykernel)",
   "language": "python",
   "name": "python3"
  },
  "language_info": {
   "codemirror_mode": {
    "name": "ipython",
    "version": 3
   },
   "file_extension": ".py",
   "mimetype": "text/x-python",
   "name": "python",
   "nbconvert_exporter": "python",
   "pygments_lexer": "ipython3",
   "version": "3.9.12"
  }
 },
 "nbformat": 4,
 "nbformat_minor": 5
}
